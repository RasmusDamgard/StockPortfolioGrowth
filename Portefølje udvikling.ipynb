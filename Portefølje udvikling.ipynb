{
 "cells": [
  {
   "cell_type": "markdown",
   "metadata": {},
   "source": [
    "# Importing libraries"
   ]
  },
  {
   "cell_type": "code",
   "execution_count": null,
   "metadata": {},
   "outputs": [],
   "source": [
    "import datetime as dt\n",
    "import pandas as pd\n",
    "from pandas_datareader import data as pdr\n",
    "from matplotlib import pyplot as plt"
   ]
  },
  {
   "cell_type": "markdown",
   "metadata": {},
   "source": [
    "# Functions"
   ]
  },
  {
   "cell_type": "code",
   "execution_count": null,
   "metadata": {},
   "outputs": [],
   "source": [
    "def shares_ticker(ticker, end):\n",
    "    '''\n",
    "    Function calcutales the total number of shares of a given stock in a specifc time interval\n",
    "    \n",
    "    Parameters:\n",
    "    - ticker - the ticker of the given stock as a string\n",
    "    - end - end date of time interval as a datetime class\n",
    "    '''\n",
    "    \n",
    "    shares = 0\n",
    "    for i in range(len(purchase_history)):\n",
    "        index_year = purchase_history.loc[i,\"Date\"][6:10]\n",
    "        index_month = purchase_history.loc[i,\"Date\"][3:5]\n",
    "        index_day = purchase_history.loc[i,\"Date\"][0:2]\n",
    "        date_purchased = dt.date.fromisoformat(f\"{index_year}-{index_month}-{index_day}\")\n",
    "        if (purchase_history.loc[i, \"Ticker\"] == ticker) & (dt.date(2021, 5, 10) <= date_purchased <= end):\n",
    "            shares += purchase_history.loc[i, \"Number of shares\"]\n",
    "        i += 1\n",
    "\n",
    "    return shares"
   ]
  },
  {
   "cell_type": "code",
   "execution_count": null,
   "metadata": {},
   "outputs": [],
   "source": [
    "def total_worth(end):\n",
    "    '''\n",
    "    Function that calculates the total worth of portfolio in specific tim interval\n",
    "\n",
    "    Parameters:\n",
    "    - end - end date of time interval as a datetime class\n",
    "    '''\n",
    "    worth = 0\n",
    "    for x in tickers:\n",
    "        price = prices_closed.loc[end.isoformat(), x]\n",
    "        shares = shares_ticker(x, end)\n",
    "        worth += shares * price\n",
    "    return worth"
   ]
  },
  {
   "cell_type": "markdown",
   "metadata": {},
   "source": [
    "# Getting relevant data of stocks and time"
   ]
  },
  {
   "cell_type": "code",
   "execution_count": null,
   "metadata": {},
   "outputs": [],
   "source": [
    "purchase_history = pd.read_csv(\"\")\n",
    "purchase_history.head()\n",
    "\n",
    "raw_ticker = list(purchase_history[\"Ticker\"])\n",
    "tickers = list(set(raw_ticker))\n",
    "\n",
    "current_day = dt.datetime.today().day\n",
    "current_month = dt.datetime.today().month\n",
    "current_year = dt.datetime.today().year\n",
    "\n",
    "start = dt.date(2021, 5, 10)\n",
    "today = dt.date.today()\n",
    "\n",
    "prices_closed = pdr.get_data_yahoo(tickers, start, today)\n",
    "prices_closed = prices_closed.Close\n",
    "prices_closed = prices_closed.dropna()\n",
    "prices_closed[\"NAS.OL\"] = prices_closed[\"NAS.OL\"]*0.73\n",
    "prices_closed[\"SXR8.DE\"] = prices_closed[\"SXR8.DE\"]*7.44\n",
    "prices_closed[\"QDVE.DE\"] = prices_closed[\"QDVE.DE\"]*7.44\n",
    "prices_closed[\"EUNL.DE\"] = prices_closed[\"EUNL.DE\"]*7.44\n",
    "prices_closed[\"AAPL\"] = prices_closed[\"AAPL\"]*7.5\n",
    "\n",
    "prices_closed\n"
   ]
  },
  {
   "cell_type": "markdown",
   "metadata": {},
   "source": [
    "# Creating dataframe for growth of investments"
   ]
  },
  {
   "cell_type": "code",
   "execution_count": null,
   "metadata": {},
   "outputs": [],
   "source": [
    "growth = pd.DataFrame(columns = [\"Date\", \"Worth\"])\n",
    "\n",
    "for i in range(len(prices_closed)):\n",
    "    growth = growth.append({\"Date\": prices_closed.index[i], \"Worth\": total_worth(prices_closed.index[i])}, ignore_index=True)\n",
    "    i += 1\n",
    "\n",
    "growth"
   ]
  },
  {
   "cell_type": "markdown",
   "metadata": {},
   "source": [
    "# Graph for growth of investments"
   ]
  },
  {
   "cell_type": "code",
   "execution_count": null,
   "metadata": {},
   "outputs": [],
   "source": [
    "graph = plt.plot(growth[\"Date\"], growth[\"Worth\"])\n",
    "plt.title(\"Growth of stock portfolio\")\n",
    "plt.xlabel(\"Date\")\n",
    "plt.ylabel(\"Worth in DKK\")\n",
    "plt.tight_layout()\n",
    "plt.grid(linestyle = '--', linewidth = 0.5)\n",
    "\n",
    "plt.savefig('portfolio_growth.png', dpi=300)\n"
   ]
  },
  {
   "cell_type": "code",
   "execution_count": null,
   "metadata": {},
   "outputs": [],
   "source": []
  }
 ],
 "metadata": {
  "kernelspec": {
   "display_name": "Python 3.9.0 64-bit",
   "language": "python",
   "name": "python3"
  },
  "language_info": {
   "codemirror_mode": {
    "name": "ipython",
    "version": 3
   },
   "file_extension": ".py",
   "mimetype": "text/x-python",
   "name": "python",
   "nbconvert_exporter": "python",
   "pygments_lexer": "ipython3",
   "version": "3.9.0"
  },
  "orig_nbformat": 4,
  "vscode": {
   "interpreter": {
    "hash": "aee8b7b246df8f9039afb4144a1f6fd8d2ca17a180786b69acc140d282b71a49"
   }
  }
 },
 "nbformat": 4,
 "nbformat_minor": 2
}
